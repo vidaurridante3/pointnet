{
  "nbformat": 4,
  "nbformat_minor": 0,
  "metadata": {
    "colab": {
      "provenance": [],
      "authorship_tag": "ABX9TyOgboRast2Ko9YeeHzC8K5r",
      "include_colab_link": true
    },
    "kernelspec": {
      "name": "python3",
      "display_name": "Python 3"
    },
    "language_info": {
      "name": "python"
    }
  },
  "cells": [
    {
      "cell_type": "markdown",
      "metadata": {
        "id": "view-in-github",
        "colab_type": "text"
      },
      "source": [
        "<a href=\"https://colab.research.google.com/github/vidaurridante3/pointnet/blob/main/Pointnet_outline.ipynb\" target=\"_parent\"><img src=\"https://colab.research.google.com/assets/colab-badge.svg\" alt=\"Open In Colab\"/></a>"
      ]
    },
    {
      "cell_type": "code",
      "source": [
        "import torch\n",
        "import torch.nn as nn\n",
        "import torch.nn.functional as F\n"
      ],
      "metadata": {
        "id": "YwR9bef4FczU"
      },
      "execution_count": null,
      "outputs": []
    },
    {
      "cell_type": "code",
      "source": [
        "# Point Net Backbone\n",
        "class PointNetBackbone(nn.Module):\n",
        "    def __init__(self):\n",
        "\n",
        "        super(PointNetBackbone, self).__init__()\n",
        "\n",
        "\n",
        "        # transformer encoders\n",
        "        self.tencoder1 = nn.Transformer_Encoder(\n",
        "            num_layers=4,\n",
        "            d_model=3,\n",
        "            nhead=1,\n",
        "            dropout=.2,\n",
        "            drop_path=0,\n",
        "            activation='relu',\n",
        "            normalize_before=True\n",
        "        )\n",
        "\n",
        "        self.pos_embed_feature = build_position_encoding(\n",
        "            position_embedding_type='learned',\n",
        "            num_pos_feats=64,\n",
        "        )\n",
        "\n",
        "        self.tencoder2 = nn.Transformer_Encoder(\n",
        "            num_layers=4,\n",
        "            d_model=64,\n",
        "            nhead=1,\n",
        "            dropout=.2,\n",
        "            drop_path=0,\n",
        "            activation='relu',\n",
        "            normalize_before=True\n",
        "        )\n",
        "\n",
        "\n",
        "\n",
        "        # shared MLP 1\n",
        "        self.conv1 = nn.Conv1d(in_channels=3, out_channels=64, kernel_size=1)\n",
        "        self.conv2 = nn.Conv1d(in_channels=64, out_channels=64, kernel_size=1)\n",
        "        self.conv3 = nn.Conv1d(in_channels=64, out_channels=64, kernel_size=1)\n",
        "\n",
        "        # shared MLP 2\n",
        "        self.conv4 = nn.Conv1d(in_channels=64, out_channels=64, kernel_size=1)\n",
        "        self.conv5 = nn.Conv1d(in_channels=64, out_channels=128, kernel_size=1)\n",
        "        self.conv6 = nn.Conv1d(in_channels=128, out_channels=1024, kernel_size=1)\n",
        "\n",
        "\n",
        "        # max pool to get the global features\n",
        "        self.final_conv = nn.Conv1d(in_channels=361,\n",
        "            out_channels=1,\n",
        "            kernel_size=1,\n",
        "            stride=1,\n",
        "            padding=0\n",
        "        )\n",
        "\n",
        "\n",
        "    def forward(self, x: NestedTensor):\n",
        "\n",
        "        # get nested vector size\n",
        "        data = x.tensors\n",
        "        mask = x.mask\n",
        "\n",
        "        # pass through first encoder layer\n",
        "        output = self.tencoder1(data, mask)\n",
        "\n",
        "        # pass through first shared MLP\n",
        "        #into batch_size, num_features, num_points\n",
        "        output = output.permute(0, 2, 1)\n",
        "        output = F.relu(self.conv1(output))\n",
        "        output = F.relu(self.conv2(output))\n",
        "        output = F.relu(self.conv3(output))\n",
        "        #batch_size, num_points, num_features\n",
        "        output = output.permute(0, 2, 1)\n",
        "\n",
        "        # pass through second encoder layer\n",
        "        pos_embed = self.pos_embed_feature(output)\n",
        "        x = self.tencoder2(output, mask, pos_embed)\n",
        "\n",
        "        # pass through second MLP\n",
        "        #into batch_size, num_features, num_points\n",
        "        output = output.permute(0, 2, 1)\n",
        "        output = F.relu(self.conv4(output))\n",
        "        output = F.relu(self.conv5(output))\n",
        "        output = F.relu(self.conv6(output))\n",
        "        #batch_size, num_points, num_features\n",
        "        output = output.permute(0, 2, 1)\n",
        "\n",
        "\n",
        "        #pass through max pool\n",
        "        output = self.final_conv(output)\n",
        "\n",
        "        return output\n",
        "\n"
      ],
      "metadata": {
        "id": "bKVu9TeO9psQ"
      },
      "execution_count": null,
      "outputs": []
    }
  ]
}