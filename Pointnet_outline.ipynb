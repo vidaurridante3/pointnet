{
  "nbformat": 4,
  "nbformat_minor": 0,
  "metadata": {
    "colab": {
      "provenance": []
    },
    "kernelspec": {
      "name": "python3",
      "display_name": "Python 3"
    },
    "language_info": {
      "name": "python"
    }
  },
  "cells": [
    {
      "cell_type": "code",
      "source": [
        "import torch\n",
        "import torch.nn as nn\n",
        "import torch.nn.functional as F\n"
      ],
      "metadata": {
        "id": "YwR9bef4FczU"
      },
      "execution_count": null,
      "outputs": []
    },
    {
      "cell_type": "code",
      "source": [
        "#How to do max pool without the number of points?\n",
        "#Not sure if I used the TransformerEncoder correctly\n",
        "# when I call it in forward it says mask takes a tensor, not sure what to use there\n",
        "\n",
        "\n",
        "# Point Net Backbone\n",
        "class PointNetBackbone(nn.Module):\n",
        "    def __init__(self):\n",
        "\n",
        "        super(PointNetBackbone, self).__init__()\n",
        "        # transformer encoders\n",
        "        self.tencoder1 = nn.TransformerEncoder(512, 4)\n",
        "        self.tencoder2 = nn.TransformerEncoder(512, 4)\n",
        "\n",
        "        # shared MLP 1\n",
        "        self.conv1 = nn.Conv1d(3, 128, kernel_size=1)\n",
        "        self.conv2 = nn.Conv1d(128, 64, kernel_size=1)\n",
        "\n",
        "        # shared MLP 2\n",
        "        self.conv3 = nn.Conv1d(64, 512, kernel_size=1)\n",
        "        self.conv4 = nn.Conv1d(64, 1024, kernel_size=1)\n",
        "\n",
        "        # batch norms for both shared MLPs\n",
        "        self.bn1 = nn.BatchNorm1d(128)\n",
        "        self.bn2 = nn.BatchNorm1d(64)\n",
        "        self.bn3 = nn.BatchNorm1d(512)\n",
        "        self.bn4 = nn.BatchNorm1d(1024)\n",
        "\n",
        "        # max pool to get the global features\n",
        "        self.max_pool = nn.MaxPool1d(kernel_size=num_points)\n",
        "\n",
        "\n",
        "    def forward(self, x):\n",
        "\n",
        "        # get batch size\n",
        "        bs = x.shape[0]\n",
        "\n",
        "        # pass through first encoder layer\n",
        "        x = self.tencoder1(x, mask=None)\n",
        "\n",
        "        # pass through first shared MLP\n",
        "        x = self.bn1(F.relu(self.conv1(x)))\n",
        "        x = self.bn2(F.relu(self.conv2(x)))\n",
        "\n",
        "        # pass through second encoder layer\n",
        "        x = self.tencoder2(x, mask=None)\n",
        "\n",
        "        # pass through second MLP\n",
        "        x = self.bn3(F.relu(self.conv3(x)))\n",
        "        x = self.bn4(F.relu(self.conv4(x)))\n",
        "\n",
        "\n",
        "\n",
        "        #pass through max pool\n",
        "        x = self.max_pool(x)\n",
        "\n",
        "        return x\n",
        "\n"
      ],
      "metadata": {
        "id": "bKVu9TeO9psQ"
      },
      "execution_count": null,
      "outputs": []
    }
  ]
}